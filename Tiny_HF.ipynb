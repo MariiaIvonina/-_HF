{
  "cells": [
    {
      "cell_type": "markdown",
      "metadata": {
        "id": "view-in-github",
        "colab_type": "text"
      },
      "source": [
        "<a href=\"https://colab.research.google.com/github/MariiaIvonina/Diatomic_HF/blob/main/Tiny_HF.ipynb\" target=\"_parent\"><img src=\"https://colab.research.google.com/assets/colab-badge.svg\" alt=\"Open In Colab\"/></a>"
      ]
    },
    {
      "cell_type": "markdown",
      "metadata": {
        "id": "AtVKunDTRqt3"
      },
      "source": [
        "# INTRO\n",
        "This notebook created to calculate diatomic molecules using Hartree-Fock method in STO-3G basis set. The programming code is written in python and has been inspired by the FORTRAN program in the book \"Modern Quantum Chemistry\" by Szabo & Ostlund. Readers may refer to this book for the details. \\\n",
        "The default example demonstrates the HF calculation for H-He$^{+}$ diatomic molecule, but can be used to calculate any general two-electron diatomic molecule.  \\\n",
        "\\\n",
        "このノートブックは、STO-3G基底関数系でハートリー・フォック方法を使用して、ダイアトミック分子を計算するために作成されました。 プログラミングコードは Python で書かれており、Szabo & Ostlund の「Modern Quantum Chemistry」の FORTRAN プログラムからインスピレーションを得ています。 読者はこの本に詳細を参照することができます。\\\n",
        "デフォルトの例では、H-He$^{+}$ ダイアトミック分子の HF 計算を示していますが、一般的な二電子・二原子分子を計算するために使用できます。"
      ]
    },
    {
      "cell_type": "code",
      "execution_count": null,
      "metadata": {
        "id": "iYfh8UiuAqah"
      },
      "outputs": [],
      "source": [
        "import math                     # library for math constants\n",
        "import numpy as np              # library for arrays\n",
        "import matplotlib.pyplot as plt # library for drawing plots"
      ]
    },
    {
      "cell_type": "markdown",
      "metadata": {
        "id": "xeNU-2V5cx3f"
      },
      "source": [
        "# Molecule definition\n",
        "The diatomic molecule is defined by the atom charges and distance between nuclei:\n",
        "\n",
        "二原子分子は、原子の電荷と原子核間の距離によって定義される:"
      ]
    },
    {
      "cell_type": "code",
      "execution_count": null,
      "metadata": {
        "id": "ga_AFH1vSFVN"
      },
      "outputs": [],
      "source": [
        "# @title\n",
        "ZA = 2.0 # He\n",
        "ZB = 1.0 # H\n",
        "R = 1.4632 # Angstroms"
      ]
    },
    {
      "cell_type": "markdown",
      "metadata": {
        "id": "uWdRhH9LgcFc"
      },
      "source": [
        "# STO-NG basis set review\n",
        "Let's consider the minimal STO-NG basis set. The STO-NG is a Pople basis set that fitts Slater type orbitals (**STO**) using several primitive Gaussian (**G**) functions.\\\n",
        "\\\n",
        "最低限のSTO-NG基底関数系を考えてみましょう。 STO-NG は、いくつかの原始的な Gaussian (**G**) 関数を用いて、 Slater軌道(**STO**)にフィッティングするPopleの基底関数系です。\n",
        "\n",
        "---\n",
        "\n",
        "\n",
        "The 1s Slater type orbital function looks like:\n",
        "\\begin{align}\n",
        "\\psi_{1s}^{STO}=(\\frac{\\zeta^{3}}{\\pi})^{\\frac{1}{2}} e^{-\\zeta r}.\n",
        "\\end{align}\\\n",
        "Let's plot it below.\n",
        "\n",
        "\n",
        "---\n",
        "\n",
        "\n",
        "What happens if ZETA ($\\zeta$) is increased from 1.0 to 1.5?\\\n",
        "\\\n",
        "ZETA ($\\zeta$) が 1.0 から 1.5 に増加するとどうなりますか?"
      ]
    },
    {
      "cell_type": "code",
      "execution_count": null,
      "metadata": {
        "id": "1hEQP-Ne9n7y"
      },
      "outputs": [],
      "source": [
        "# Parameters for hydrogen 1s orbital\n",
        "ZETA = 1.0       # <-- try to change to 1.5 or 2.0\n",
        "\n",
        "# Radial distance\n",
        "r = np.linspace(0, 5, 500)\n",
        "\n",
        "# 1s Slater orbital function\n",
        "psi_1s = math.sqrt(ZETA**3/math.pi)*np.exp(-ZETA * r)\n",
        "\n",
        "# Plot the function\n",
        "plt.plot(r, psi_1s, label='$\\psi_{1s}(\\zeta=$'+str(ZETA)+', r)')\n",
        "plt.title('1s Slater Orbital for Hydrogen')\n",
        "plt.xlim(0, 5)\n",
        "plt.ylim(0, 1.7)\n",
        "plt.xlabel('Radial distance (r)')\n",
        "plt.ylabel('amplitude(r)')\n",
        "plt.legend()\n",
        "plt.grid(True)\n",
        "plt.show()"
      ]
    },
    {
      "cell_type": "markdown",
      "metadata": {
        "id": "cujf74ciUG1q"
      },
      "source": [
        "The Slater orbital resembles the known shape of the wavefunction for hydrogen atom and can correctly model the orbital overlap on the long distances.\n",
        "However, the **Slater orbitals are computationally expensive to integrate**. **Gaussian functions (GF) are easier to integrate**, so we will use the combination of them to fit the Slater function. \\\n",
        "\\\n",
        "スレーター軌道は、既知の水素原子の波動関数の形に似ており、長距離での軌道重複を正しくモデリングすることができる。\n",
        "しかし、Slater 軌道はコンピュータ的に統合するのに高価です。Gaussian 関数(GF)は統合しやすくなります。\n",
        "\n",
        "---\n",
        "\n",
        "\n",
        "The contracted Gaussian function (**CGF**), composed from the normalized primitive gaussian functions, is:\n",
        "\\begin{align}\n",
        "\\phi_{STO-NG}^{CGF}=\\sum_{i=1}^{N} c_{i} \\varphi_{i}^{GF}, \\\\\n",
        "\\varphi_{i}^{GF}=(\\frac{2\\alpha_{i}\\zeta}{\\pi})^{\\frac{3}{4}}e^{-\\alpha_{i} r^{2}}.\n",
        "\\end{align}\n",
        "\n",
        "\n",
        "---\n",
        "\n",
        "\n",
        "Let's define the exponents $\\alpha_{i}$ and contraction coefficients $c_{i}$ for the minimal Pople STO-NG basis set (this data is optimized by least square fitting procedure):\\\n",
        "\\\n",
        "最低限の Pople STO-NG 基底関数系のために、 exponents $\\alpha_{i}$ と contraction coefficients $c_{I}$ を定義しましょう:"
      ]
    },
    {
      "cell_type": "code",
      "execution_count": null,
      "metadata": {
        "id": "tsXUKWkldz4w"
      },
      "outputs": [],
      "source": [
        "                #  1 (STO-1G), 2(STO-2G), or 3(STO-3G)\n",
        "expon = np.array([[0.270950,   0.151623,     0.109818],  # alpha (zeta=1.0)\n",
        "                  [0.0,        0.851819,     0.405771],\n",
        "                  [0.0,        0.0,          2.22766]])\n",
        "coeff = np.array([[1.0,        0.678914,     0.444635],  # c     (zeta=1.0)\n",
        "                  [0.0,        0.430129,     0.535328],\n",
        "                  [0.0,        0.0,          0.154329]])"
      ]
    },
    {
      "cell_type": "markdown",
      "metadata": {
        "id": "6G0WWVA2iQzi"
      },
      "source": [
        "Now, let's compare how well STO-1G, STO-2G, and STO-3G can approximate Slater function. Which **STO-NG** is better?\\\n",
        "\\\n",
        "STO-1G、STO-2G、およびSTO-3Gがスレーター関数をどの程度よく近似できるかを比較してみましょう。 どの「STO-NG」がいいでしょうか?"
      ]
    },
    {
      "cell_type": "code",
      "execution_count": null,
      "metadata": {
        "id": "uHnQfhe1ik1F"
      },
      "outputs": [],
      "source": [
        "ZETA = 1.0\n",
        "sto_ng = np.zeros([3,len(r)])\n",
        "\n",
        "for i in range(3):\n",
        "    for j in range(3):\n",
        "        sto_ng[i,:] = sto_ng[i,:] + coeff[j,i]*(2*expon[j,i]*ZETA/math.pi)**0.75*np.exp(-expon[j,i] * r**2)\n",
        "\n",
        "fig, (ax1, ax2) = plt.subplots(1,2, figsize=(10,5))\n",
        "\n",
        "ax1.plot(r, psi_1s, label='$\\psi_{1s}(\\zeta=$'+str(ZETA)+', r)', zorder=4 )\n",
        "ax1.plot(r, sto_ng[0,:], label='STO-1G($\\zeta$='+str(ZETA)+', r)')\n",
        "ax1.plot(r, sto_ng[1,:], label='STO-2G($\\zeta$='+str(ZETA)+', r)')\n",
        "ax1.plot(r, sto_ng[2,:], label='STO-3G($\\zeta$='+str(ZETA)+', r)')\n",
        "ax1.set_title('1s Slater Orbital vs STO-NG for Hydrogen')\n",
        "ax1.set_xlim(0, 5)\n",
        "ax1.set_ylim(0, 0.6)\n",
        "ax1.set_xlabel('Radial distance (r)')\n",
        "ax1.set_ylabel('amplitude(r)')\n",
        "ax1.legend()\n",
        "ax1.grid(True)\n",
        "\n",
        "ax2.plot(r, sto_ng[2,:], label='STO-3G($\\zeta$='+str(ZETA)+', r)', color='red', zorder=4)\n",
        "ax2.plot(r, coeff[0,2]*(2*expon[0,2]*ZETA/math.pi)**0.75 * np.exp(-expon[0,2] * r**2), label='1st primitive GF(r)', color='gray', ls='--')\n",
        "ax2.plot(r, coeff[1,2]*(2*expon[1,2]*ZETA/math.pi)**0.75 * np.exp(-expon[1,2] * r**2), label='2nd primitive GF(r)', color='gray', ls='-.')\n",
        "ax2.plot(r, coeff[2,2]*(2*expon[2,2]*ZETA/math.pi)**0.75 * np.exp(-expon[2,2] * r**2), label='3rd primitive GF(r)', color='gray', ls=':')\n",
        "ax2.set_title('Decomposition of STO-3G to primitive GFs')\n",
        "ax2.set_xlim(0, 5)\n",
        "ax2.set_ylim(0, 0.6)\n",
        "ax2.set_xlabel('Radial distance (r)')\n",
        "ax2.set_ylabel('amplitude(r)')\n",
        "ax2.legend()\n",
        "ax2.grid(True)\n",
        "\n",
        "plt.show()"
      ]
    },
    {
      "cell_type": "markdown",
      "metadata": {
        "id": "4PVblMxh9v2Y"
      },
      "source": [
        "Now, let's choose which STO-NG basis (1G, 2G, or 3G) we want to use. Also, we should **scale the basis exponents and contraction coefficient** for each atom according the $\\zeta$ parameter, such as $\\alpha'=\\alpha(\\zeta=1.0)*\\zeta^{2}$. Note that in molecule system $\\zeta$ will be greater than 1.0 because electron density adjusts to the presence of other electrons and nuclei.\\\n",
        "\\\n",
        "次に、どのSTO-NGベース(1G、2G、または3G)を使いたいかを選択しましょう。 また、$\\zeta$ パラメーターに従って、各原子のベースエクスペンタおよび縮小因子をスケールするべきである、例えば $\\alpha'=\\alpha(\\zeta=1.0)\\zeta^{2}$。 分子システムにおける $\\zeta$ は、電子密度が他の電子や核の存在に適応するため、 1.0 より大きくなることに注意してください。"
      ]
    },
    {
      "cell_type": "code",
      "execution_count": null,
      "metadata": {
        "id": "s_vIxfR2o2RT"
      },
      "outputs": [],
      "source": [
        "N = 3          # 1, 2, or 3 gaussians are used to fit one Slater orbital\n",
        "ZETA1 = 2.0925 # He\n",
        "ZETA2 = 1.2400 # H\n",
        "A1 = np.empty(3) # place to hold scaled exponents\n",
        "A2 = np.empty(3)\n",
        "D1 = np.empty(3) # place to hold scaled coefficients\n",
        "D2 = np.empty(3)\n",
        "\n",
        "for i in range(N):\n",
        "    A1[i] = expon[i,N-1]*(ZETA1**2)\n",
        "    A2[i] = expon[i,N-1]*(ZETA2**2)\n",
        "    D1[i] = coeff[i,N-1]*((2*A1[i]/math.pi)**0.75)\n",
        "    D2[i] = coeff[i,N-1]*((2*A2[i]/math.pi)**0.75)"
      ]
    },
    {
      "cell_type": "markdown",
      "source": [
        "# Constracting Hartree-Fock-Roothaan equation"
      ],
      "metadata": {
        "id": "OX_m1xbsKFBp"
      }
    },
    {
      "cell_type": "markdown",
      "metadata": {
        "id": "olP3Mn9WEcWs"
      },
      "source": [
        "The *restricted* (i.e., spin functions for $\\alpha$ and $\\beta$ spins are same) *closed-shell* (i.e., molecule has even number of electrons, all paired) Hartree-Fock (HF) equation is:\n",
        "\n",
        "\\begin{aligned}\n",
        "f(\\mathbf{r_{1}})\\psi_{i}(\\mathbf{r_{1}}) = \\varepsilon_{i}\\psi_{i}(\\mathbf{r_{1}}),\n",
        "\\end{aligned}\n",
        "\n",
        "where $r_{1}$ is one electron position, $f$ is a Fock operator, $\\psi_{i}$ are the spatial molecular orbitals, and $\\varepsilon_{i}$ are their energies.\\\n",
        "The contribution of Roothaan was to show how to solve the HF equation in a standard matrix technique by introdusing the set of known basis functions. We will expand the unknown molecular orbitals $\\psi_{i}$ as linear combination of N basis orbitals $\\phi_{\\mu}$ as:\n",
        "\n",
        "\\begin{align}\n",
        "\\psi_{i}=\\sum_{\\mu=1}^{N}{C_{\\mu i}\\phi_{\\mu}} \\quad i=1,2,...,N\n",
        "\\end{align}\n",
        "\n",
        "thus, the problem of calculating the HF molecular orbitals reduces to the finding the set of expansion coefficients $C_{\\mu i}$:\n",
        "\n",
        "\\begin{align}\n",
        "f(\\mathbf{r_{1}})\\sum_{\\nu}{C_{\\nu i}\\phi_{\\nu}}=\\varepsilon_{i}\\sum_{\\nu}{C_{\\nu i}\\phi_{\\nu}}\n",
        "\\end{align}\n",
        "\n",
        "By multiplying by $\\phi^{*}_{\\mu}(1)$ on the left and integrating, the differential equation turns into a matrix equation:\n",
        "\n",
        "\\begin{align}\n",
        "\\sum_{\\nu}{C_{\\nu i} \\int d\\mathbf{r_{1}} \\phi^{*}_{\\mu} f(\\mathbf{r_{1}}) \\phi_{\\nu}}=\\varepsilon_{i}\\sum_{\\nu}{C_{\\nu i}\\int d\\mathbf{r_{1}} \\phi^{*}_{\\mu}\\phi_{\\nu}}\n",
        "\\end{align}\n",
        "\n",
        "Two matrices are defined from the above equation:\\\n",
        "1) The *overlap matrix* **S** with elements\n",
        "\n",
        "\\begin{align}\n",
        "S_{\\mu \\nu}=\\int d\\mathbf{r_{1}} \\phi^{*}_{\\mu}\\phi_{\\nu}\n",
        "\\end{align}\n",
        "\n",
        "which characterize the overlap between basis functions.\\\n",
        "2) The *Fock matrix* **F** with elements\n",
        "\n",
        "\\begin{align}\n",
        "F_{\\mu \\nu}=\\int d\\mathbf{r_{1}} \\phi^{*}_{\\mu} f(\\mathbf{r_{1}}) \\phi_{\\nu}\n",
        "\\end{align}\n",
        "\n",
        "which is the matrix representation of Fock operator.\n",
        "\n",
        "\n",
        "---\n",
        "\n",
        "\n",
        "The Hartree-Fock-Roothaan equation in a short form is:\n",
        "\n",
        "\\begin{align}\n",
        "\\mathbf{FC}=\\mathbf{SC\\varepsilon}\n",
        "\\end{align}\n",
        "\n",
        "or\n",
        "$$\n",
        "\\begin{pmatrix}\n",
        "F_{11} & F_{12} & \\cdots & F_{1N}\\\\\n",
        "F_{21} & F_{22} & \\cdots & F_{2N}\\\\\n",
        "\\vdots & \\vdots &        & \\vdots\\\\\n",
        "F_{N1} & F_{N2} & \\cdots & F_{NN}\\\\\n",
        "\\end{pmatrix}\n",
        "\\times\n",
        "\\begin{pmatrix}\n",
        "C_{11} & C_{12} & \\cdots & C_{1N}\\\\\n",
        "C_{21} & C_{22} & \\cdots & C_{2N}\\\\\n",
        "\\vdots & \\vdots &        & \\vdots\\\\\n",
        "C_{N1} & C_{N2} & \\cdots & C_{NN}\\\\\n",
        "\\end{pmatrix}\n",
        "=\n",
        "\\begin{pmatrix}\n",
        "S_{11} & S_{12} & \\cdots & S_{1N}\\\\\n",
        "S_{21} & S_{22} & \\cdots & S_{2N}\\\\\n",
        "\\vdots & \\vdots &        & \\vdots\\\\\n",
        "S_{N1} & S_{N2} & \\cdots & S_{NN}\\\\\n",
        "\\end{pmatrix}\n",
        "\\begin{pmatrix}\n",
        "C_{11} & C_{12} & \\cdots & C_{1N}\\\\\n",
        "C_{21} & C_{22} & \\cdots & C_{2N}\\\\\n",
        "\\vdots & \\vdots &        & \\vdots\\\\\n",
        "C_{N1} & C_{N2} & \\cdots & C_{NN}\\\\\n",
        "\\end{pmatrix}\n",
        "\\begin{pmatrix}\n",
        "\\varepsilon_{1} & 0 & 0  & 0 \\\\\n",
        " 0 & \\varepsilon_{2} & 0 & 0 \\\\\n",
        " 0 &   0    & \\ddots     & 0 \\\\\n",
        " 0 & 0 & 0 & \\varepsilon_{K} \\\\\n",
        "\\end{pmatrix}\n",
        "$$ \\\n",
        "\n",
        "To make this equation a usual matrix eigenvalue problem, we can find the orthogonal transformation of basis set $\\mathbf{X}$, such as $\\mathbf{S}$ becomes a unit matrix\n",
        "\n",
        "\\begin{align}\n",
        "\\mathbf{X^{\\dagger}SX=1}\n",
        "\\end{align}\n",
        "\n",
        "and reformulated Roothaan equation becomes\n",
        "\n",
        "\\begin{align}\n",
        "\\mathbf{FC=C\\varepsilon}.\n",
        "\\end{align}\n",
        "\n",
        "We will use this equation in SCF cycles."
      ]
    },
    {
      "cell_type": "markdown",
      "metadata": {
        "id": "wv1TB5SKLq7J"
      },
      "source": [
        "## Calculating electron integrals\n",
        "\n",
        "To construct the Fock matrix operator and run SCF loop, we need to calculated various electron integrals such as:\n",
        "\n",
        "\n",
        "*   overlap integrals $S_{\\mu \\nu}$ (defined above),\n",
        "*   integrals included into Fock matrix: kinetic energy $T_{\\mu \\nu}$, electron-nuclear attraction $V_{\\mu \\nu}^{nucl}$, and two-electron repulsion integrals $(\\mu \\nu || \\lambda \\sigma)$. The sum of $T_{\\mu \\nu}$ and $V_{\\mu \\nu}^{nucl}$ is the core Hamiltonian $H^{core}_{\\mu \\nu}$.\n",
        "\n",
        "The expression for the Fock matrix elements is\n",
        "\n",
        "\\begin{align}\n",
        "F_{\\mu \\nu} = H^{core}_{\\mu \\nu} + \\sum_{\\lambda \\sigma}{P_{\\lambda \\sigma}[(\\mu \\nu | \\lambda \\sigma)-\\frac{1}{2}(\\mu \\sigma | \\lambda \\nu)]}.\n",
        "\\end{align}\n",
        "\n",
        "The kinetic integrals are:\n",
        "\n",
        "\\begin{align}\n",
        "T_{\\mu \\nu}=\\int d\\mathbf{r_{1}} \\phi^{*}_{\\mu} [-\\frac{1}{2} \\nabla^{2}_{1}] \\phi_{\\nu},\n",
        "\\end{align}\n",
        "\n",
        "The electron-nuclear attraction integrals are:\n",
        "\n",
        "\\begin{align}\n",
        "V^{nucl}_{\\mu \\nu}=\\int d\\mathbf{r_{1}} \\phi^{*}_{\\mu} [-\\sum_{A}{\\frac{Z_{A}}{|\\mathbf{r_{1}-R_{A}}|}] \\phi_{\\nu}},\n",
        "\\end{align}\n",
        "\n",
        "The two-electron repulsion integrals are:\n",
        "\n",
        "\\begin{align}\n",
        "(\\mu \\nu | \\lambda \\sigma)=\\int d\\mathbf{r_{1}} d\\mathbf{r_{2}} \\phi^{*}_{\\mu} \\phi_{\\nu} r^{-1}_{1 2} \\phi^{*}_{\\lambda} \\phi_{\\sigma}.\n",
        "\\end{align}\n",
        "\n",
        "*Because of their large number, the calculation and manipulation of these two-electron integrals is the major difficulty in HF calculation.*\n",
        "\n",
        "All the above integrals are calculated for the contructed functions $\\phi^{CGF}$ just by summing up integrals over primitive gaussian functions. To calculate them numerically, the Fourier transform technique is used, and you can see the formulas in each corresponding programming functions below."
      ]
    },
    {
      "cell_type": "markdown",
      "source": [
        "The f0 function is a needed to calculate the electron-nuclear attraction and electron-electron repultion potential integrals. \\\n",
        "(see Szabo&Ostlund book for details).\\\n",
        "\\\n",
        "f0 関数は、電子-核積分・二電子積分　を計算するために必要です。"
      ],
      "metadata": {
        "id": "rM7Ov8WxP66w"
      }
    },
    {
      "cell_type": "code",
      "execution_count": null,
      "metadata": {
        "id": "va-FFHNNKOLp"
      },
      "outputs": [],
      "source": [
        "def f0(arg):\n",
        "  # calculate the f0 function for s-type orbitals\n",
        "    if arg < 10**(-6):\n",
        "        fzero = 1.0 - arg/3.0\n",
        "    else:\n",
        "        fzero = (math.pi/arg)**0.5 * math.erf(arg**0.5)/2.0\n",
        "    return fzero"
      ]
    },
    {
      "cell_type": "markdown",
      "metadata": {
        "id": "uVv7qcK_XdqQ"
      },
      "source": [
        "**Overlap integrals**"
      ]
    },
    {
      "cell_type": "code",
      "execution_count": null,
      "metadata": {
        "id": "MEgaOVkFGLME"
      },
      "outputs": [],
      "source": [
        "def overlap(A, B, RAB2):\n",
        "  # calculate overlap for un-normalized primitives\n",
        "    s = (math.pi/(A+B))**1.5*math.exp(-A*B*RAB2/(A+B))\n",
        "    return s"
      ]
    },
    {
      "cell_type": "markdown",
      "metadata": {
        "id": "iCjKgsE0_G40"
      },
      "source": [
        "**Kinetic energy integrals**"
      ]
    },
    {
      "cell_type": "code",
      "execution_count": null,
      "metadata": {
        "id": "HXtpdq9K-fqg"
      },
      "outputs": [],
      "source": [
        "def kinetic(A, B, RAB2):\n",
        "  # calculate kinetic energy integrals for un-normalized primitives\n",
        "    t = A*B/(A+B) * (3.0-2*A*B*RAB2/(A+B)) * (math.pi/(A+B))**1.5 * math.exp(-A*B*RAB2/(A+B))\n",
        "    return t"
      ]
    },
    {
      "cell_type": "markdown",
      "metadata": {
        "id": "shy2Ewsi_Kaq"
      },
      "source": [
        "**Potential energy integrals**"
      ]
    },
    {
      "cell_type": "code",
      "execution_count": null,
      "metadata": {
        "id": "c7-Q5yVoYMq-"
      },
      "outputs": [],
      "source": [
        "def potential(A, B, RAB2, RCP2, ZC):\n",
        "  # calculate kinetic energy for un-normalized primitives\n",
        "    v = 2.0*math.pi/(A+B) * f0((A+B)*RCP2) * math.exp(-A*B*RAB2/(A+B))\n",
        "    return -v*ZC"
      ]
    },
    {
      "cell_type": "markdown",
      "source": [
        "Function to print out 2x2 matrices with lables:\\\n",
        "\\\n",
        "ラベルで 2x2 マトリックスを印刷する関数:"
      ],
      "metadata": {
        "id": "zWnbgGBFPGeq"
      }
    },
    {
      "cell_type": "code",
      "execution_count": null,
      "metadata": {
        "id": "Dy0lO3qqQmcG"
      },
      "outputs": [],
      "source": [
        "def matout(matrix, m, n, label):\n",
        "  # print matrices of size m by n\n",
        "    print(\"\\nThe %s matrix\" % (label))\n",
        "    for i in range(n):\n",
        "        print(\"\\t %i \\t\" % (i+1), end='') # matrix column indices\n",
        "    print() # newline\n",
        "    for i in range(m):\n",
        "        print(i+1, end='') # matrix row index\n",
        "        for j in range(n):\n",
        "            print(\"\\t %.7f\" % (matrix[i][j]), end='')\n",
        "        print() #newline"
      ]
    },
    {
      "cell_type": "markdown",
      "source": [
        "Calculating overlap, kinetic energy, and electron-nuclear potential energy integrals in one nested loop is done below. Integral matrices are collected into numpy arrays and printed.\\\n",
        "\\\n",
        "以下に従って、重なり積分・運動エネルギー積分・電子-核積分を1つのネストループで行います。"
      ],
      "metadata": {
        "id": "5srWRTGRPWUk"
      }
    },
    {
      "cell_type": "code",
      "execution_count": null,
      "metadata": {
        "collapsed": true,
        "id": "N1tH5TTTEcFu"
      },
      "outputs": [],
      "source": [
        "S11, S12, S22 = 1.0, 0.0, 1.0\n",
        "T11, T12, T22 = 0.0, 0.0, 0.0\n",
        "V11A, V12A, V22A = 0.0, 0.0, 0.0\n",
        "V11B, V12B, V22B = 0.0, 0.0, 0.0\n",
        "\n",
        "for i in range(N):\n",
        "    for j in range(N):\n",
        "        RAP = A2[j]*R/(A1[i]+A2[j])\n",
        "        RAP2 = RAP**2\n",
        "        RBP2 = (R-RAP)**2\n",
        "        S12 = S12 + overlap(A1[i], A2[j], R**2) *D1[i]*D2[j]\n",
        "        T11 = T11 + kinetic(A1[i], A1[j], 0.0) *D1[i]*D1[j]\n",
        "        T12 = T12 + kinetic(A1[i], A2[j], R**2) *D1[i]*D2[j]\n",
        "        T22 = T22 + kinetic(A2[i], A2[j], 0.0) *D2[i]*D2[j]\n",
        "        V11A = V11A + potential(A1[i], A1[j], 0.0, 0.0, ZA) *D1[i]*D1[j]\n",
        "        V12A = V12A + potential(A1[i], A2[j], R**2, RAP2, ZA) *D1[i]*D2[j]\n",
        "        V22A = V22A + potential(A2[i], A2[j], 0.0, R**2, ZA) *D2[i]*D2[j]\n",
        "        V11B = V11B + potential(A1[i], A1[j], 0.0, R**2, ZB) *D1[i]*D1[j]\n",
        "        V12B = V12B + potential(A1[i], A2[j], R**2, RBP2, ZB) *D1[i]*D2[j]\n",
        "        V22B = V22B + potential(A2[i], A2[j], 0.0, 0.0, ZB) *D2[i]*D2[j]\n"
      ]
    },
    {
      "cell_type": "code",
      "execution_count": null,
      "metadata": {
        "id": "8SgktPg8Sqc0"
      },
      "outputs": [],
      "source": [
        "S21 = S12\n",
        "smatrix = np.array([[S11,S12],[S21,S22]])\n",
        "matout(smatrix, 2, 2, \"S\")"
      ]
    },
    {
      "cell_type": "code",
      "execution_count": null,
      "metadata": {
        "id": "IKb5r1v_Y-gO"
      },
      "outputs": [],
      "source": [
        "T21 = T12\n",
        "tmatrix = np.array([[T11,T12],[T21,T22]])\n",
        "matout(tmatrix, 2, 2, \"T\")"
      ]
    },
    {
      "cell_type": "code",
      "execution_count": null,
      "metadata": {
        "id": "TxV8a0XFZzVo"
      },
      "outputs": [],
      "source": [
        "V11 = V11A + V11B\n",
        "V12 = V12A + V12B\n",
        "V21 = V12\n",
        "V22 = V22A + V22B\n",
        "vmatrix = np.array([[V11,V12],[V21,V22]])\n",
        "matout(vmatrix, 2, 2, \"V\")"
      ]
    },
    {
      "cell_type": "markdown",
      "metadata": {
        "id": "UMb7KjKtSqF9"
      },
      "source": [
        "**Core Hamiltonian**"
      ]
    },
    {
      "cell_type": "code",
      "execution_count": null,
      "metadata": {
        "id": "FPiocSes8d5w"
      },
      "outputs": [],
      "source": [
        "hmatrix = tmatrix + vmatrix\n",
        "matout(hmatrix, 2, 2, \"H\")"
      ]
    },
    {
      "cell_type": "markdown",
      "metadata": {
        "id": "UJ14qohB8sC-"
      },
      "source": [
        "**Two-electron integrals**"
      ]
    },
    {
      "cell_type": "code",
      "execution_count": null,
      "metadata": {
        "id": "tDWQ4Mu98zJH"
      },
      "outputs": [],
      "source": [
        "# There are 6 two-electron integrals with unique values:\n",
        "V1111, V2111, V2121, V2211, V2221, V2222 = 0.0, 0.0, 0.0, 0.0, 0.0, 0.0\n",
        "\n",
        "def two_electron(A, B, C, D, RAB2, RCD2, RPQ2):\n",
        "  # calcualte two-electron integrals for un-normalized primitives with four centers involved (A, B, C, D) and combined A-B/C-D centers P and Q, respectively\n",
        "    twoe = 2.0*(math.pi**2.5) / ((A+B)*(C+D)* ((A+B+C+D)**0.5)) * f0((A+B)*(C+D)*RPQ2/(A+B+C+D)) * math.exp(-A*B*RAB2/(A+B) - C*D*RCD2/(C+D))\n",
        "    return twoe\n",
        "\n",
        "for i in range(N):\n",
        "        for j in range (N):\n",
        "            for k in range(N):\n",
        "                for l in range(N):\n",
        "                    RAP = A2[i]*R/(A2[i]+A1[j])\n",
        "                    RBP = R - RAP\n",
        "                    RAQ = A2[k]*R/(A2[k]+A1[l])\n",
        "                    RBQ = R - RAQ\n",
        "                    RPQ = RAP - RAQ\n",
        "                    V1111 = V1111 + two_electron(A1[i], A1[j], A1[k], A1[l], 0.0, 0.0, 0.0)*D1[i]*D1[j]*D1[k]*D1[l]\n",
        "                    V2111 = V2111 + two_electron(A2[i], A1[j], A1[k], A1[l], R**2, 0.0, RAP**2)*D2[i]*D1[j]*D1[k]*D1[l]\n",
        "                    V2121 = V2121 + two_electron(A2[i], A1[j], A2[k], A1[l], R**2, R**2, RPQ**2)*D2[i]*D1[j]*D2[k]*D1[l]\n",
        "                    V2211 = V2211 + two_electron(A2[i], A2[j], A1[k], A1[l], 0.0, 0.0, R**2)*D2[i]*D2[j]*D1[k]*D1[l]\n",
        "                    V2221 = V2221 + two_electron(A2[i], A2[j], A2[k], A1[l], 0.0, R**2, RBQ**2)*D2[i]*D2[j]*D2[k]*D1[l]\n",
        "                    V2222 = V2222 + two_electron(A2[i], A2[j], A2[k], A2[l], 0.0, 0.0, 0.0)*D2[i]*D2[j]*D2[k]*D2[l]"
      ]
    },
    {
      "cell_type": "code",
      "execution_count": null,
      "metadata": {
        "id": "aE20UN0CCkl1"
      },
      "outputs": [],
      "source": [
        "twoematrix = np.empty([2,2,2,2])\n",
        "\n",
        "# 1) remember that array indexing starts with 0, so [0] = first index, [1] = second index\n",
        "# 2) the integrals have permutation symmetry such as <11|12> = <11|21> = <12|11> = <21|11>, etc.\n",
        "\n",
        "twoematrix[0,0,0,0] = V1111\n",
        "twoematrix[0,0,0,1] = V2111\n",
        "twoematrix[0,0,1,0] = V2111\n",
        "twoematrix[0,0,1,1] = V2211\n",
        "\n",
        "twoematrix[0,1,0,0] = V2111\n",
        "twoematrix[0,1,0,1] = V2121\n",
        "twoematrix[0,1,1,0] = V2121\n",
        "twoematrix[0,1,1,1] = V2221\n",
        "\n",
        "twoematrix[1,0,0,0] = V2111\n",
        "twoematrix[1,0,0,1] = V2121\n",
        "twoematrix[1,0,1,0] = V2121\n",
        "twoematrix[1,0,1,1] = V2221\n",
        "\n",
        "twoematrix[1,1,0,0] = V2211\n",
        "twoematrix[1,1,0,1] = V2221\n",
        "twoematrix[1,1,1,0] = V2221\n",
        "twoematrix[1,1,1,1] = V2222\n",
        "\n",
        "for i in range(2):\n",
        "    for j in range(2):\n",
        "        for k in range(2):\n",
        "            for l in range(2):\n",
        "                print(\"( %i %i %i %i ) \\t %f\" % (i+1, j+1, k+1, l+1, twoematrix[i][j][k][l]))\n"
      ]
    },
    {
      "cell_type": "markdown",
      "source": [
        "## Calculating transformation matrix\n",
        "There are two ways to orthogonalize $\\mathbf{S}$ matrix: symmetric and canonical. We will use the caconical procedure to avoid problems with linear dependencies in basis set. The transformation matrix $\\mathbf{X}$ is produced.\\\n",
        "\\\n",
        "$\\mathbf{S}$ マトリックスを直交化する方法は「対称直交化」あるいは「標準直交化」の2つがあります。 基底関数系における線形依存性の問題を回避するために、標準直交化を使用します。 変換マトリックス $\\mathbf{X}$ が生成されます。"
      ],
      "metadata": {
        "id": "oeruJ4ssSLB2"
      }
    },
    {
      "cell_type": "code",
      "execution_count": null,
      "metadata": {
        "id": "AR4WmSxIVkhl"
      },
      "outputs": [],
      "source": [
        "xmatrix = np.zeros([2,2])\n",
        "\n",
        "xmatrix[0,0] = 1.0 / (2.0*(1.0+S12))**0.5\n",
        "xmatrix[1,0] = xmatrix[0,0]\n",
        "xmatrix[0,1] = 1.0 / (2.0*(1.0-S12))**0.5\n",
        "xmatrix[1,1] = -xmatrix[0,1]\n",
        "\n",
        "matout(xmatrix, 2, 2, \"X\")\n",
        "\n",
        "xtmatrix = np.zeros([2,2])\n",
        "\n",
        "xtmatrix[0,0] = xmatrix[0,0]\n",
        "xtmatrix[1,0] = xmatrix[0,1]\n",
        "xtmatrix[0,1] = xmatrix[1,0]\n",
        "xtmatrix[1,1] = xmatrix[1,1]\n",
        "\n",
        "matout(xtmatrix, 2, 2, \"X transposed\")"
      ]
    },
    {
      "cell_type": "markdown",
      "source": [
        "# SCF calculation"
      ],
      "metadata": {
        "id": "IqgueJEmTViK"
      }
    },
    {
      "cell_type": "markdown",
      "source": [
        "## Defining supplimentary functions"
      ],
      "metadata": {
        "id": "udxiFB8DoiNP"
      }
    },
    {
      "cell_type": "markdown",
      "source": [
        "The $\\mathbf{G}$ function is a two-electron part of the Fock matrix (excluding the core Hamiltonian), which changes during SCF with density change. We define the function to calculate $\\mathbf{G}$ below:\\\n",
        "\\\n",
        "$\\mathbf{G}$関数は、密度の変化とともに、SCFの間で変化するFockマトリックスの2電子部分です。 以下で $\\mathbf{G}$ を計算するための関数を定義します:"
      ],
      "metadata": {
        "id": "GhLFPGxyonsk"
      }
    },
    {
      "cell_type": "code",
      "execution_count": null,
      "metadata": {
        "id": "f1lPTrhLS1ZO"
      },
      "outputs": [],
      "source": [
        "def formg(pmatrix, twoematrix):\n",
        "  # calculate G matrix as P*(J - 0.5K)\n",
        "    gmatrix = np.zeros([2,2])\n",
        "    for i in range(2):\n",
        "        for j in range(2):\n",
        "            for k in range(2):\n",
        "                for l in range(2):\n",
        "                    gmatrix[i][j] = gmatrix[i][j] + pmatrix[k][l]*(twoematrix[i][j][k][l] - 0.5*twoematrix[i][l][k][j])\n",
        "    return gmatrix"
      ]
    },
    {
      "cell_type": "markdown",
      "metadata": {
        "id": "C0avT-LpO16n"
      },
      "source": [
        "The diagonalization function is used to find the eigenvectors and eigenvalues of the matrix. It is available in numpy (and probably much faster), but here is the explicit definition, so you can see how it's done.\\\n",
        "\\\n",
        "diagonalization 関数は、マトリックスの eigenvectors と eigenvalues を検索するために使用されます。 これはNumpy(およびおそらくはるかに速い)で入手可能ですが、ここに明確な定義がありますので、それがどのように行われているかを見ることができます。"
      ]
    },
    {
      "cell_type": "code",
      "execution_count": null,
      "metadata": {
        "id": "Cj8PA6Fu6xYl"
      },
      "outputs": [],
      "source": [
        "def diag(fmatrix):\n",
        "  # diogonalizes Fock matrix to give eigenvectors and eigenvalues\n",
        "\n",
        "  # 1) choose the angle theta that describes the symmetry determined solution\n",
        "  #    if diogonal elements of Fock matrix are identical -> the molecule is homonuclear\n",
        "    if math.fabs(fmatrix[0,0] - fmatrix[1,1]) < (1e-20):\n",
        "        theta = math.pi/4\n",
        "  #    diogonal elements of Fock matrix are different -> the molecule is heteronuclear\n",
        "    else:\n",
        "        theta = 0.5*math.atan(2*fmatrix[0,1]/(fmatrix[0,0] - fmatrix[1,1]))\n",
        "  # 2) define the eigenvectors matrix and eigenvalues matrix\n",
        "    cmatrix = np.empty([2,2])\n",
        "    epsilonmatrix = np.empty([2,2])\n",
        "\n",
        "  # 3) enumerate the cmatrix with theta values\n",
        "    cmatrix[0,0] = math.cos(theta)\n",
        "    cmatrix[0,1] = math.sin(theta)\n",
        "    cmatrix[1,0] = math.sin(theta)\n",
        "    cmatrix[1,1] = -math.cos(theta)\n",
        "\n",
        "  # 4) calculte the eigenvalues\n",
        "    epsilonmatrix[0,0] = fmatrix[0,0]*math.cos(theta)**2 + fmatrix[1,1]*math.sin(theta)**2 + fmatrix[0,1]*math.sin(2*theta)\n",
        "    epsilonmatrix[1,1] = fmatrix[1,1]*math.cos(theta)**2 + fmatrix[0,0]*math.sin(theta)**2 - fmatrix[0,1]*math.sin(2*theta)\n",
        "    epsilonmatrix[0,1] = 0.0\n",
        "    epsilonmatrix[1,0] = 0.0\n",
        "\n",
        "  # 5) order eigenvalues and eigenvectors from smallest orbital energy to largest\n",
        "    if epsilonmatrix[0,0] > epsilonmatrix[1,1]:\n",
        "        epsilonmatrix[0,0], epsilonmatrix[1,1] = epsilonmatrix[1,1], epsilonmatrix[0,0]\n",
        "        cmatrix.T[[0, 1]] = cmatrix.T[[1, 0]]\n",
        "    return cmatrix, epsilonmatrix"
      ]
    },
    {
      "cell_type": "markdown",
      "source": [
        "## The actual calculation\n",
        "Now we have all the elements of the Hartree-Fock-Roothan equation, and we can start the SCF procedure as follows:\\\n",
        "\\\n",
        "現在、Hartree-Fock-Roothan 方程式のすべての要素があり、次のように SCF 手順を開始できます: \\\n",
        "\n",
        "\n",
        "1.   Obtain a guess at the density matrix $\\mathbf{P}$.\n",
        "2.   Calculate $\\mathbf{G}$ matrix from the density matrix $\\mathbf{P}$ and two-electron integrals $(\\mu \\nu | \\lambda \\sigma)$.\n",
        "3.   Add $\\mathbf{G}$ to the core-hamiltonian to obtain the Fock matrix $\\mathbf{F = H^{core} +G}$.\n",
        "4.   Calculate the transformed Fock matrix $\\mathbf{F'=X^{\\dagger}FX}$.\n",
        "5.   Diagonalize $\\mathbf{F'}$ to obtain $\\mathbf{C'}$ and $\\mathbf{\\varepsilon}$.\n",
        "6.   Calculate $\\mathbf{C=XC'}$.\n",
        "7.   Form a new density matrix $\\mathbf{P}$ from $\\mathbf{C}$ as $P_{\\mu \\nu}=2\\sum_{a}^{N/2}{C_{\\mu a}C_{\\nu a }^{*}}$.\n",
        "8.   Determine if the new density converge with previous density within a specified criteria (\"crit\").\n",
        "9.   If SCF has converged, exit SCF loop and analyze molecular properties based on the resulting density."
      ],
      "metadata": {
        "id": "sPBFjDttTesZ"
      }
    },
    {
      "cell_type": "code",
      "execution_count": null,
      "metadata": {
        "id": "jmY1qlShRMr7"
      },
      "outputs": [],
      "source": [
        "# define some SCF settings:\n",
        "\n",
        "crit = 1e-4 # density convergence criteria\n",
        "maxit = 25  # maximum number of SCF iteration\n",
        "IOP = 1     # level of print out on every SCF iteration: (1) print only energy and delta P; (2) 1 + MO coeffs & MO energies; (3) 2 + other intermediate matrices"
      ]
    },
    {
      "cell_type": "markdown",
      "source": [
        "**Defining density matrix**"
      ],
      "metadata": {
        "id": "1fIx5Xm5k3sd"
      }
    },
    {
      "cell_type": "code",
      "source": [
        "pmatrix = np.zeros([2,2]) # place to store density matrix\n",
        "oldpmatrix = np.zeros([2,2]) # place to store old density matrix during SCF iterations"
      ],
      "metadata": {
        "id": "LJ_6eA_Pk8SY"
      },
      "execution_count": null,
      "outputs": []
    },
    {
      "cell_type": "markdown",
      "source": [
        "**SCF loop**"
      ],
      "metadata": {
        "id": "9Q8nexXG4va2"
      }
    },
    {
      "cell_type": "code",
      "execution_count": null,
      "metadata": {
        "id": "W275TPdnd4i7"
      },
      "outputs": [],
      "source": [
        "# 1) keep inital density guess as zeros or use the core Hamiltonian matrix:\n",
        "#for i in range(2):\n",
        "#    for j in range(2):\n",
        "#        pmatrix[i,j] = hmatrix[i,j]\n",
        "\n",
        "gmatrix = np.empty([2,2])\n",
        "fmatrix = np.empty([2,2])\n",
        "cmatrix = np.empty([2,2])\n",
        "epsilonmatrix = np.empty([2,2])\n",
        "\n",
        "enlist = [] # place to save energies in each iteration\n",
        "deltaplist = [] # place to save difference in density matrix in each iteration\n",
        "\n",
        "iter = 0    # current iteration\n",
        "\n",
        "print(\"SCF started! \\n\")\n",
        "while True:\n",
        "    iter = iter + 1\n",
        "    if (IOP > 2) : matout(pmatrix, 2, 2, \"current P\")\n",
        "    print(\"\\nSTART OF INTERATION NUMBER = %i\" % (iter))\n",
        "# 2) calculate G matrix\n",
        "    gmatrix = formg(pmatrix, twoematrix)\n",
        "    if (IOP > 2) : matout(gmatrix, 2, 2, \"G\")\n",
        "# 3) calculate F matrix from G and H\n",
        "    fmatrix = hmatrix + gmatrix\n",
        "    en = 0.0\n",
        "    for i in range(2):\n",
        "        for j in range(2):\n",
        "            en = en + 0.5*pmatrix[i,j]*(hmatrix[i,j]+fmatrix[i,j])\n",
        "    if (IOP > 2) : matout(fmatrix, 2, 2, \"current F\")\n",
        "    print(\"\\nElectronic energy = %f a.u.\" % (en))\n",
        "    enlist.append(en)\n",
        "# 4) Transform Fock matrix to F' using G matrix as temporal storage\n",
        "    gmatrix = np.matmul(fmatrix,xmatrix)\n",
        "    fprimematrix = np.matmul(xtmatrix,gmatrix)\n",
        "# 5) Diogonalize F' to get C' matrix and eigenvalues\n",
        "    cprimematrix, epsilonmatrix = diag(fprimematrix)\n",
        "# 6) Transform C' back to C\n",
        "    cmatrix = np.matmul(xmatrix, cprimematrix)\n",
        "# 7) Form new density matrix P, but first save the current matrix P for comparison\n",
        "    for i in range(2):\n",
        "        for j in range(2):\n",
        "            oldpmatrix[i,j] = pmatrix[i,j]\n",
        "            pmatrix[i,j] = 2*cmatrix[i,0]*cmatrix[j,0]\n",
        "    if (IOP > 2) : matout(fprimematrix, 2, 2, \"F prime\")\n",
        "    if (IOP > 2) : matout(cprimematrix, 2, 2, \"C prime\")\n",
        "    # Print new MO coefficients and density\n",
        "    if (IOP > 2) : matout(pmatrix, 2, 2, \"New density matrix P\")\n",
        "    if (IOP > 1) : print(\"\\nNew MO energies \\n \\t %f \\t %f\" % (epsilonmatrix[0,0], epsilonmatrix[1,1]))\n",
        "    if (IOP > 1) : matout(cmatrix, 2, 2, \"new MO coefficients\")\n",
        "# 8) Calculate delta in density\n",
        "    deltap = 0.0\n",
        "    for i in range(2):\n",
        "        for j in range(2):\n",
        "            deltap = deltap + (pmatrix[i,j] - oldpmatrix[i,j])**2\n",
        "    deltap = (deltap/4)**0.5\n",
        "    deltaplist.append(deltap)\n",
        "    print(\"\\nConvergence of density matrix = %.12f\" % (deltap))\n",
        "\n",
        "# 9) Check if the convergence sattisfys the choosen criteria\n",
        "    if deltap < crit:\n",
        "        print(\"\\nSCF converged after %i iteration\" % (iter))\n",
        "        break\n",
        "    elif iter > maxit:\n",
        "        print(\"\\nMaximum number of iterations was reached! \\n Density is not converged\")\n",
        "        break"
      ]
    },
    {
      "cell_type": "markdown",
      "source": [
        "## Total energy of the system\n",
        "\n",
        "Do not forget that the total energy of the system is the sum of electronic energy and nuclear repulsion.\\\n",
        "\\\n",
        "系の総エネルギーは、電子エネルギーと原子核同士の反発の和で求められます。\n",
        "\n",
        "\\begin{align}\n",
        "E_{tot}=E_{el}+\\sum_{A}\\sum_{B>A}{\\frac{Z_{A}Z_{B}}{R_{AB}}}\n",
        "\\end{align}"
      ],
      "metadata": {
        "id": "UxKr5Y-UrBmP"
      }
    },
    {
      "cell_type": "code",
      "source": [
        "total_e = en + ZA*ZB/R\n",
        "print(\"Total energy of the system = %f\" % total_e)"
      ],
      "metadata": {
        "id": "JLEEw-6ITrB6"
      },
      "execution_count": null,
      "outputs": []
    },
    {
      "cell_type": "markdown",
      "source": [
        "## Analyzing the convergence"
      ],
      "metadata": {
        "id": "I622KjBiz-hb"
      }
    },
    {
      "cell_type": "markdown",
      "source": [
        "We can now plot the electronic energy convergence through the iterations. Although we might be interested in the total energy of the system as a final result, only the electronic energy is used to test if the SCF was converged. \\\n",
        "Our starting \"guess\" for the density matrix was to set all elements to zero, meaning the first electronic energy is zero. Most HF programs used in research have a more sophisticated guess, which will give a more logical first energy (and usually lead to convergence in fewer iterations). \\\n",
        "\\\n",
        "今、イテレーションを通じて電子エネルギーの変化をプロットすることができます。 最終的な結果として、システムの総エネルギーに興味があるかもしれませんが、SCFが融合したかどうかをテストするために使用されるのは電子エネルギーのみです。 \\\n",
        "\n",
        "密度マトリックスの私たちの最初のguessは、すべての要素をゼロに設定することでした、つまり最初の電子エネルギーはゼロです。研究で使用されるほとんどのHFプログラムは、より論理的な最初のエネルギーを与えるより複雑なguessを持っています。"
      ],
      "metadata": {
        "id": "PjGGN11M00IR"
      }
    },
    {
      "cell_type": "code",
      "source": [
        "fig, axes = plt.subplots()\n",
        "axes.plot(range(1,iter+1),enlist[:], 'bo-')\n",
        "axes.set_xlabel(\"Iteration number\")\n",
        "axes.set_ylabel(\"Electronic energy (Hartree)\")\n",
        "plt.show()"
      ],
      "metadata": {
        "id": "NpqM0Blk0XiH"
      },
      "execution_count": null,
      "outputs": []
    },
    {
      "cell_type": "markdown",
      "source": [
        "And the density convergence through the iteractions.\\\n",
        "\\\n",
        "そして、密度の変化は徐々に小さくなります。"
      ],
      "metadata": {
        "id": "rKp-jzq9064Q"
      }
    },
    {
      "cell_type": "code",
      "source": [
        "fig, axes = plt.subplots()\n",
        "axes.plot(range(1,iter+1),deltaplist[:], 'ro-')\n",
        "axes.set_xlabel(\"Iteration number\")\n",
        "axes.set_ylabel(\"Delta (convergence of density matrix)\")\n",
        "plt.show()"
      ],
      "metadata": {
        "id": "68YB02c557gk"
      },
      "execution_count": null,
      "outputs": []
    },
    {
      "cell_type": "markdown",
      "metadata": {
        "id": "x4jYzbqQQGTA"
      },
      "source": [
        "# Simple exersizes to try\n",
        "\n",
        "You can easily modify some parameters in the code to see how it will affect the energy of the system. Make a change, then press the double arrow re-run button in the toolbar $\\blacktriangleright\\blacktriangleright$. This will restart the notebook with your new parameters. **Please, for the safety, always re-run all the cells (fully restart the kernel) if you make some changes.**\\\n",
        "\\\n",
        "コード内のいくつかのパラメータを簡単に変更して、システムのエネルギーにどのように影響するかを見ることができます。 変更を行い、ツールバーのダブル矢印再起動ボタンを押します $\\blacktriangleright\\blacktriangleright$。 これは、新しいパラメータでノートブック全体を再計算します。 **エラーを避けるために、常にすべてのセルを再起動してください(変更した場合、カーネルを完全に再稼働してください)。**\n",
        "\n",
        "### There is a list of suggestions:\n",
        "\n",
        "*   Try to use STO-2G or STO-1G basis set to see how the quality of basis set will change the total energy of the system toward the HF limit;\n",
        "*   Change the molecule to H$_{2}$. For this, modify variables *ZA* and *R* in the molecule definition section & ZETA1 in basis set section;\n",
        "*   Change convergence criteria to more strict (*crit* = 1e-5, 1e-7, 1e-10, etc.) and see how many SCF iterations are required in each case to converge density;\n",
        "*   Try longer or shorter bond length $R$ between atoms and check how total energy of the system behaves. For example, the experimental equilibrium bond length in H$_{2}$ is 1.4 angstrom, but is it the same for this calculations?"
      ]
    }
  ],
  "metadata": {
    "colab": {
      "provenance": [],
      "toc_visible": true,
      "authorship_tag": "ABX9TyNZop1GrxDpehuJxhXXNzQX",
      "include_colab_link": true
    },
    "kernelspec": {
      "display_name": "Python 3",
      "name": "python3"
    },
    "language_info": {
      "name": "python"
    }
  },
  "nbformat": 4,
  "nbformat_minor": 0
}